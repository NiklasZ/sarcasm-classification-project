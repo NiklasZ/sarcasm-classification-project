{
 "nbformat": 4,
 "nbformat_minor": 0,
 "metadata": {
  "colab": {
   "name": "CS263_Final_Project.ipynb",
   "provenance": [],
   "collapsed_sections": []
  },
  "kernelspec": {
   "name": "python3",
   "display_name": "Python 3"
  },
  "language_info": {
   "name": "python"
  }
 },
 "cells": [
  {
   "cell_type": "markdown",
   "source": [
    "# SVM & Random Forest\n",
    "## Sarcasm Detection"
   ],
   "metadata": {
    "id": "mUvRpPVFl449"
   }
  },
  {
   "cell_type": "markdown",
   "source": [
    "# Installation & Download"
   ],
   "metadata": {
    "collapsed": false,
    "id": "mEXU_qtY-dd6"
   }
  },
  {
   "cell_type": "code",
   "execution_count": null,
   "metadata": {
    "colab": {
     "base_uri": "https://localhost:8080/"
    },
    "executionInfo": {
     "elapsed": 155877,
     "status": "ok",
     "timestamp": 1653970478577,
     "user": {
      "displayName": "COURTNEY CHU",
      "userId": "05165186775196890455"
     },
     "user_tz": 420
    },
    "id": "sJK5yN8jsdNA",
    "outputId": "a4184c19-4eba-422f-a2c3-07d875f34520"
   },
   "outputs": [
    {
     "output_type": "stream",
     "name": "stdout",
     "text": [
      "--2022-05-31 04:12:02--  https://developer.nvidia.com/compute/cuda/9.0/Prod/local_installers/cuda-repo-ubuntu1704-9-0-local_9.0.176-1_amd64-deb\n",
      "Resolving developer.nvidia.com (developer.nvidia.com)... 152.195.19.142\n",
      "Connecting to developer.nvidia.com (developer.nvidia.com)|152.195.19.142|:443... connected.\n",
      "HTTP request sent, awaiting response... 301 Moved Permanently\n",
      "Location: https://developer.nvidia.com/compute/cuda/9.0/prod/local_installers/cuda-repo-ubuntu1704-9-0-local_9.0.176-1_amd64-deb [following]\n",
      "--2022-05-31 04:12:03--  https://developer.nvidia.com/compute/cuda/9.0/prod/local_installers/cuda-repo-ubuntu1704-9-0-local_9.0.176-1_amd64-deb\n",
      "Reusing existing connection to developer.nvidia.com:443.\n",
      "HTTP request sent, awaiting response... 302 Found\n",
      "Location: https://developer.download.nvidia.com/compute/cuda/9.0/secure/Prod/local_installers/cuda-repo-ubuntu1704-9-0-local_9.0.176-1_amd64.deb?_jlXrqrMOnBCDqzrCRrK_pLs5mavg2FUwzCzTIOZRozOGJD8KdsOUWsnJidkbWep_83NMR-24ZGkWgG-mdCV9UQRfLtPXVW7qp5Km-lcdBD26Y2h8aqtgCxqeVDrw4_PYRnUEB7PoufXm274Aa7i8BELwCWVA2dkKUsFLtebGy5nEBGuYZg2zlhw8Ve02FcIDaiJZ5V2i2z75--emauF [following]\n",
      "--2022-05-31 04:12:03--  https://developer.download.nvidia.com/compute/cuda/9.0/secure/Prod/local_installers/cuda-repo-ubuntu1704-9-0-local_9.0.176-1_amd64.deb?_jlXrqrMOnBCDqzrCRrK_pLs5mavg2FUwzCzTIOZRozOGJD8KdsOUWsnJidkbWep_83NMR-24ZGkWgG-mdCV9UQRfLtPXVW7qp5Km-lcdBD26Y2h8aqtgCxqeVDrw4_PYRnUEB7PoufXm274Aa7i8BELwCWVA2dkKUsFLtebGy5nEBGuYZg2zlhw8Ve02FcIDaiJZ5V2i2z75--emauF\n",
      "Resolving developer.download.nvidia.com (developer.download.nvidia.com)... 152.195.19.142\n",
      "Connecting to developer.download.nvidia.com (developer.download.nvidia.com)|152.195.19.142|:443... connected.\n",
      "HTTP request sent, awaiting response... 200 OK\n",
      "Length: 1216133170 (1.1G) [application/x-deb]\n",
      "Saving to: ‘cuda-repo-ubuntu1704-9-0-local_9.0.176-1_amd64-deb’\n",
      "\n",
      "cuda-repo-ubuntu170 100%[===================>]   1.13G   203MB/s    in 6.8s    \n",
      "\n",
      "2022-05-31 04:12:10 (169 MB/s) - ‘cuda-repo-ubuntu1704-9-0-local_9.0.176-1_amd64-deb’ saved [1216133170/1216133170]\n",
      "\n",
      "Selecting previously unselected package cuda-repo-ubuntu1704-9-0-local.\n",
      "(Reading database ... 155629 files and directories currently installed.)\n",
      "Preparing to unpack cuda-repo-ubuntu1704-9-0-local_9.0.176-1_amd64-deb ...\n",
      "Unpacking cuda-repo-ubuntu1704-9-0-local (9.0.176-1) ...\n",
      "Setting up cuda-repo-ubuntu1704-9-0-local (9.0.176-1) ...\n",
      "7fa2af80.pub\n",
      "OK\n",
      "Get:1 file:/var/cuda-repo-9-0-local  InRelease\n",
      "Ign:1 file:/var/cuda-repo-9-0-local  InRelease\n",
      "Get:2 file:/var/cuda-repo-9-0-local  Release [574 B]\n",
      "Get:2 file:/var/cuda-repo-9-0-local  Release [574 B]\n",
      "Get:3 file:/var/cuda-repo-9-0-local  Release.gpg [819 B]\n",
      "Get:3 file:/var/cuda-repo-9-0-local  Release.gpg [819 B]\n",
      "Get:4 https://cloud.r-project.org/bin/linux/ubuntu bionic-cran40/ InRelease [3,626 B]\n",
      "Get:5 https://developer.download.nvidia.com/compute/cuda/repos/ubuntu1804/x86_64  InRelease [1,581 B]\n",
      "Hit:6 http://archive.ubuntu.com/ubuntu bionic InRelease\n",
      "Get:7 http://security.ubuntu.com/ubuntu bionic-security InRelease [88.7 kB]\n",
      "Ign:8 https://developer.download.nvidia.com/compute/machine-learning/repos/ubuntu1804/x86_64  InRelease\n",
      "Hit:9 https://developer.download.nvidia.com/compute/machine-learning/repos/ubuntu1804/x86_64  Release\n",
      "Get:10 http://archive.ubuntu.com/ubuntu bionic-updates InRelease [88.7 kB]\n",
      "Get:11 http://ppa.launchpad.net/c2d4u.team/c2d4u4.0+/ubuntu bionic InRelease [15.9 kB]\n",
      "Get:12 http://archive.ubuntu.com/ubuntu bionic-backports InRelease [74.6 kB]\n",
      "Hit:13 http://ppa.launchpad.net/cran/libgit2/ubuntu bionic InRelease\n",
      "Get:14 http://ppa.launchpad.net/deadsnakes/ppa/ubuntu bionic InRelease [15.9 kB]\n",
      "Get:15 file:/var/cuda-repo-9-0-local  Packages [15.8 kB]\n",
      "Get:16 http://ppa.launchpad.net/graphics-drivers/ppa/ubuntu bionic InRelease [21.3 kB]\n",
      "Get:17 https://developer.download.nvidia.com/compute/cuda/repos/ubuntu1804/x86_64  Packages [787 kB]\n",
      "Get:19 http://security.ubuntu.com/ubuntu bionic-security/main amd64 Packages [2,796 kB]\n",
      "Get:20 http://archive.ubuntu.com/ubuntu bionic-updates/restricted amd64 Packages [991 kB]\n",
      "Get:21 http://security.ubuntu.com/ubuntu bionic-security/restricted amd64 Packages [956 kB]\n",
      "Get:22 http://security.ubuntu.com/ubuntu bionic-security/multiverse amd64 Packages [22.8 kB]\n",
      "Get:23 http://security.ubuntu.com/ubuntu bionic-security/universe amd64 Packages [1,507 kB]\n",
      "Get:24 http://archive.ubuntu.com/ubuntu bionic-updates/main amd64 Packages [3,231 kB]\n",
      "Get:25 http://ppa.launchpad.net/c2d4u.team/c2d4u4.0+/ubuntu bionic/main Sources [1,990 kB]\n",
      "Get:26 http://archive.ubuntu.com/ubuntu bionic-updates/universe amd64 Packages [2,284 kB]\n",
      "Get:27 http://archive.ubuntu.com/ubuntu bionic-updates/multiverse amd64 Packages [29.8 kB]\n",
      "Get:28 http://ppa.launchpad.net/c2d4u.team/c2d4u4.0+/ubuntu bionic/main amd64 Packages [1,021 kB]\n",
      "Get:29 http://ppa.launchpad.net/deadsnakes/ppa/ubuntu bionic/main amd64 Packages [45.3 kB]\n",
      "Get:30 http://ppa.launchpad.net/graphics-drivers/ppa/ubuntu bionic/main amd64 Packages [44.3 kB]\n",
      "Fetched 16.0 MB in 10s (1,601 kB/s)\n",
      "Reading package lists... Done\n",
      "Reading package lists... Done\n",
      "Building dependency tree       \n",
      "Reading state information... Done\n",
      "Note, selecting 'cuda-9-0' for regex 'cuda-9.0'\n",
      "Note, selecting 'libcuda-9.0-1' for regex 'cuda-9.0'\n",
      "The following package was automatically installed and is no longer required:\n",
      "  libnvidia-common-460\n",
      "Use 'sudo apt autoremove' to remove it.\n",
      "The following additional packages will be installed:\n",
      "  cuda-command-line-tools-9-0 cuda-core-9-0 cuda-cublas-9-0\n",
      "  cuda-cublas-dev-9-0 cuda-cudart-9-0 cuda-cudart-dev-9-0 cuda-cufft-9-0\n",
      "  cuda-cufft-dev-9-0 cuda-curand-9-0 cuda-curand-dev-9-0 cuda-cusolver-9-0\n",
      "  cuda-cusolver-dev-9-0 cuda-cusparse-9-0 cuda-cusparse-dev-9-0\n",
      "  cuda-demo-suite-9-0 cuda-documentation-9-0 cuda-driver-dev-9-0\n",
      "  cuda-libraries-9-0 cuda-libraries-dev-9-0 cuda-license-9-0\n",
      "  cuda-misc-headers-9-0 cuda-npp-9-0 cuda-npp-dev-9-0 cuda-nvgraph-9-0\n",
      "  cuda-nvgraph-dev-9-0 cuda-nvml-dev-9-0 cuda-nvrtc-9-0 cuda-nvrtc-dev-9-0\n",
      "  cuda-runtime-9-0 cuda-samples-9-0 cuda-toolkit-9-0 cuda-visual-tools-9-0\n",
      "The following NEW packages will be installed:\n",
      "  cuda-9-0 cuda-command-line-tools-9-0 cuda-core-9-0 cuda-cublas-9-0\n",
      "  cuda-cublas-dev-9-0 cuda-cudart-9-0 cuda-cudart-dev-9-0 cuda-cufft-9-0\n",
      "  cuda-cufft-dev-9-0 cuda-curand-9-0 cuda-curand-dev-9-0 cuda-cusolver-9-0\n",
      "  cuda-cusolver-dev-9-0 cuda-cusparse-9-0 cuda-cusparse-dev-9-0\n",
      "  cuda-demo-suite-9-0 cuda-documentation-9-0 cuda-driver-dev-9-0\n",
      "  cuda-libraries-9-0 cuda-libraries-dev-9-0 cuda-license-9-0\n",
      "  cuda-misc-headers-9-0 cuda-npp-9-0 cuda-npp-dev-9-0 cuda-nvgraph-9-0\n",
      "  cuda-nvgraph-dev-9-0 cuda-nvml-dev-9-0 cuda-nvrtc-9-0 cuda-nvrtc-dev-9-0\n",
      "  cuda-runtime-9-0 cuda-samples-9-0 cuda-toolkit-9-0 cuda-visual-tools-9-0\n",
      "0 upgraded, 33 newly installed, 0 to remove and 75 not upgraded.\n",
      "Need to get 0 B/1,097 MB of archives.\n",
      "After this operation, 2,315 MB of additional disk space will be used.\n",
      "Get:1 file:/var/cuda-repo-9-0-local  cuda-license-9-0 9.0.176-1 [22.0 kB]\n",
      "Get:2 file:/var/cuda-repo-9-0-local  cuda-misc-headers-9-0 9.0.176-1 [684 kB]\n",
      "Get:3 file:/var/cuda-repo-9-0-local  cuda-core-9-0 9.0.176-1 [16.9 MB]\n",
      "Get:4 file:/var/cuda-repo-9-0-local  cuda-cudart-9-0 9.0.176-1 [106 kB]\n",
      "Get:5 file:/var/cuda-repo-9-0-local  cuda-driver-dev-9-0 9.0.176-1 [10.9 kB]\n",
      "Get:6 file:/var/cuda-repo-9-0-local  cuda-cudart-dev-9-0 9.0.176-1 [767 kB]\n",
      "Get:7 file:/var/cuda-repo-9-0-local  cuda-command-line-tools-9-0 9.0.176-1 [25.4 MB]\n",
      "Get:8 file:/var/cuda-repo-9-0-local  cuda-nvrtc-9-0 9.0.176-1 [6,348 kB]\n",
      "Get:9 file:/var/cuda-repo-9-0-local  cuda-nvrtc-dev-9-0 9.0.176-1 [9,334 B]\n",
      "Get:10 file:/var/cuda-repo-9-0-local  cuda-cusolver-9-0 9.0.176-1 [26.2 MB]\n",
      "Get:11 file:/var/cuda-repo-9-0-local  cuda-cusolver-dev-9-0 9.0.176-1 [5,317 kB]\n",
      "Get:12 file:/var/cuda-repo-9-0-local  cuda-cublas-9-0 9.0.176-1 [25.0 MB]\n",
      "Get:13 file:/var/cuda-repo-9-0-local  cuda-cublas-dev-9-0 9.0.176-1 [49.4 MB]\n",
      "Get:14 file:/var/cuda-repo-9-0-local  cuda-cufft-9-0 9.0.176-1 [84.1 MB]\n",
      "Get:15 file:/var/cuda-repo-9-0-local  cuda-cufft-dev-9-0 9.0.176-1 [73.7 MB]\n",
      "Get:16 file:/var/cuda-repo-9-0-local  cuda-curand-9-0 9.0.176-1 [38.8 MB]\n",
      "Get:17 file:/var/cuda-repo-9-0-local  cuda-curand-dev-9-0 9.0.176-1 [57.9 MB]\n",
      "Get:18 file:/var/cuda-repo-9-0-local  cuda-cusparse-9-0 9.0.176-1 [25.2 MB]\n",
      "Get:19 file:/var/cuda-repo-9-0-local  cuda-cusparse-dev-9-0 9.0.176-1 [25.3 MB]\n",
      "Get:20 file:/var/cuda-repo-9-0-local  cuda-npp-9-0 9.0.176-1 [46.6 MB]\n",
      "Get:21 file:/var/cuda-repo-9-0-local  cuda-npp-dev-9-0 9.0.176-1 [46.6 MB]\n",
      "Get:22 file:/var/cuda-repo-9-0-local  cuda-nvgraph-9-0 9.0.176-1 [6,081 kB]\n",
      "Get:23 file:/var/cuda-repo-9-0-local  cuda-nvgraph-dev-9-0 9.0.176-1 [5,658 kB]\n",
      "Get:24 file:/var/cuda-repo-9-0-local  cuda-samples-9-0 9.0.176-1 [75.9 MB]\n",
      "Get:25 file:/var/cuda-repo-9-0-local  cuda-documentation-9-0 9.0.176-1 [53.1 MB]\n",
      "Get:26 file:/var/cuda-repo-9-0-local  cuda-libraries-dev-9-0 9.0.176-1 [2,596 B]\n",
      "Get:27 file:/var/cuda-repo-9-0-local  cuda-nvml-dev-9-0 9.0.176-1 [47.6 kB]\n",
      "Get:28 file:/var/cuda-repo-9-0-local  cuda-visual-tools-9-0 9.0.176-1 [398 MB]\n",
      "Get:29 file:/var/cuda-repo-9-0-local  cuda-toolkit-9-0 9.0.176-1 [2,836 B]\n",
      "Get:30 file:/var/cuda-repo-9-0-local  cuda-libraries-9-0 9.0.176-1 [2,566 B]\n",
      "Get:31 file:/var/cuda-repo-9-0-local  cuda-runtime-9-0 9.0.176-1 [2,526 B]\n",
      "Get:32 file:/var/cuda-repo-9-0-local  cuda-demo-suite-9-0 9.0.176-1 [3,880 kB]\n",
      "Get:33 file:/var/cuda-repo-9-0-local  cuda-9-0 9.0.176-1 [2,552 B]\n",
      "debconf: unable to initialize frontend: Dialog\n",
      "debconf: (No usable dialog-like program is installed, so the dialog based frontend cannot be used. at /usr/share/perl5/Debconf/FrontEnd/Dialog.pm line 76, <> line 33.)\n",
      "debconf: falling back to frontend: Readline\n",
      "debconf: unable to initialize frontend: Readline\n",
      "debconf: (This frontend requires a controlling tty.)\n",
      "debconf: falling back to frontend: Teletype\n",
      "dpkg-preconfigure: unable to re-open stdin: \n",
      "Selecting previously unselected package cuda-license-9-0.\n",
      "(Reading database ... 155688 files and directories currently installed.)\n",
      "Preparing to unpack .../00-cuda-license-9-0_9.0.176-1_amd64.deb ...\n",
      "Unpacking cuda-license-9-0 (9.0.176-1) ...\n",
      "Selecting previously unselected package cuda-misc-headers-9-0.\n",
      "Preparing to unpack .../01-cuda-misc-headers-9-0_9.0.176-1_amd64.deb ...\n",
      "Unpacking cuda-misc-headers-9-0 (9.0.176-1) ...\n",
      "Selecting previously unselected package cuda-core-9-0.\n",
      "Preparing to unpack .../02-cuda-core-9-0_9.0.176-1_amd64.deb ...\n",
      "Unpacking cuda-core-9-0 (9.0.176-1) ...\n",
      "Selecting previously unselected package cuda-cudart-9-0.\n",
      "Preparing to unpack .../03-cuda-cudart-9-0_9.0.176-1_amd64.deb ...\n",
      "Unpacking cuda-cudart-9-0 (9.0.176-1) ...\n",
      "Selecting previously unselected package cuda-driver-dev-9-0.\n",
      "Preparing to unpack .../04-cuda-driver-dev-9-0_9.0.176-1_amd64.deb ...\n",
      "Unpacking cuda-driver-dev-9-0 (9.0.176-1) ...\n",
      "Selecting previously unselected package cuda-cudart-dev-9-0.\n",
      "Preparing to unpack .../05-cuda-cudart-dev-9-0_9.0.176-1_amd64.deb ...\n",
      "Unpacking cuda-cudart-dev-9-0 (9.0.176-1) ...\n",
      "Selecting previously unselected package cuda-command-line-tools-9-0.\n",
      "Preparing to unpack .../06-cuda-command-line-tools-9-0_9.0.176-1_amd64.deb ...\n",
      "Unpacking cuda-command-line-tools-9-0 (9.0.176-1) ...\n",
      "Selecting previously unselected package cuda-nvrtc-9-0.\n",
      "Preparing to unpack .../07-cuda-nvrtc-9-0_9.0.176-1_amd64.deb ...\n",
      "Unpacking cuda-nvrtc-9-0 (9.0.176-1) ...\n",
      "Selecting previously unselected package cuda-nvrtc-dev-9-0.\n",
      "Preparing to unpack .../08-cuda-nvrtc-dev-9-0_9.0.176-1_amd64.deb ...\n",
      "Unpacking cuda-nvrtc-dev-9-0 (9.0.176-1) ...\n",
      "Selecting previously unselected package cuda-cusolver-9-0.\n",
      "Preparing to unpack .../09-cuda-cusolver-9-0_9.0.176-1_amd64.deb ...\n",
      "Unpacking cuda-cusolver-9-0 (9.0.176-1) ...\n",
      "Selecting previously unselected package cuda-cusolver-dev-9-0.\n",
      "Preparing to unpack .../10-cuda-cusolver-dev-9-0_9.0.176-1_amd64.deb ...\n",
      "Unpacking cuda-cusolver-dev-9-0 (9.0.176-1) ...\n",
      "Selecting previously unselected package cuda-cublas-9-0.\n",
      "Preparing to unpack .../11-cuda-cublas-9-0_9.0.176-1_amd64.deb ...\n",
      "Unpacking cuda-cublas-9-0 (9.0.176-1) ...\n",
      "Selecting previously unselected package cuda-cublas-dev-9-0.\n",
      "Preparing to unpack .../12-cuda-cublas-dev-9-0_9.0.176-1_amd64.deb ...\n",
      "Unpacking cuda-cublas-dev-9-0 (9.0.176-1) ...\n",
      "Selecting previously unselected package cuda-cufft-9-0.\n",
      "Preparing to unpack .../13-cuda-cufft-9-0_9.0.176-1_amd64.deb ...\n",
      "Unpacking cuda-cufft-9-0 (9.0.176-1) ...\n",
      "Selecting previously unselected package cuda-cufft-dev-9-0.\n",
      "Preparing to unpack .../14-cuda-cufft-dev-9-0_9.0.176-1_amd64.deb ...\n",
      "Unpacking cuda-cufft-dev-9-0 (9.0.176-1) ...\n",
      "Selecting previously unselected package cuda-curand-9-0.\n",
      "Preparing to unpack .../15-cuda-curand-9-0_9.0.176-1_amd64.deb ...\n",
      "Unpacking cuda-curand-9-0 (9.0.176-1) ...\n",
      "Selecting previously unselected package cuda-curand-dev-9-0.\n",
      "Preparing to unpack .../16-cuda-curand-dev-9-0_9.0.176-1_amd64.deb ...\n",
      "Unpacking cuda-curand-dev-9-0 (9.0.176-1) ...\n",
      "Selecting previously unselected package cuda-cusparse-9-0.\n",
      "Preparing to unpack .../17-cuda-cusparse-9-0_9.0.176-1_amd64.deb ...\n",
      "Unpacking cuda-cusparse-9-0 (9.0.176-1) ...\n",
      "Selecting previously unselected package cuda-cusparse-dev-9-0.\n",
      "Preparing to unpack .../18-cuda-cusparse-dev-9-0_9.0.176-1_amd64.deb ...\n",
      "Unpacking cuda-cusparse-dev-9-0 (9.0.176-1) ...\n",
      "Selecting previously unselected package cuda-npp-9-0.\n",
      "Preparing to unpack .../19-cuda-npp-9-0_9.0.176-1_amd64.deb ...\n",
      "Unpacking cuda-npp-9-0 (9.0.176-1) ...\n",
      "Selecting previously unselected package cuda-npp-dev-9-0.\n",
      "Preparing to unpack .../20-cuda-npp-dev-9-0_9.0.176-1_amd64.deb ...\n",
      "Unpacking cuda-npp-dev-9-0 (9.0.176-1) ...\n",
      "Selecting previously unselected package cuda-nvgraph-9-0.\n",
      "Preparing to unpack .../21-cuda-nvgraph-9-0_9.0.176-1_amd64.deb ...\n",
      "Unpacking cuda-nvgraph-9-0 (9.0.176-1) ...\n",
      "Selecting previously unselected package cuda-nvgraph-dev-9-0.\n",
      "Preparing to unpack .../22-cuda-nvgraph-dev-9-0_9.0.176-1_amd64.deb ...\n",
      "Unpacking cuda-nvgraph-dev-9-0 (9.0.176-1) ...\n",
      "Selecting previously unselected package cuda-samples-9-0.\n",
      "Preparing to unpack .../23-cuda-samples-9-0_9.0.176-1_amd64.deb ...\n",
      "Unpacking cuda-samples-9-0 (9.0.176-1) ...\n",
      "Selecting previously unselected package cuda-documentation-9-0.\n",
      "Preparing to unpack .../24-cuda-documentation-9-0_9.0.176-1_amd64.deb ...\n",
      "Unpacking cuda-documentation-9-0 (9.0.176-1) ...\n",
      "Selecting previously unselected package cuda-libraries-dev-9-0.\n",
      "Preparing to unpack .../25-cuda-libraries-dev-9-0_9.0.176-1_amd64.deb ...\n",
      "Unpacking cuda-libraries-dev-9-0 (9.0.176-1) ...\n",
      "Selecting previously unselected package cuda-nvml-dev-9-0.\n",
      "Preparing to unpack .../26-cuda-nvml-dev-9-0_9.0.176-1_amd64.deb ...\n",
      "Unpacking cuda-nvml-dev-9-0 (9.0.176-1) ...\n",
      "Selecting previously unselected package cuda-visual-tools-9-0.\n",
      "Preparing to unpack .../27-cuda-visual-tools-9-0_9.0.176-1_amd64.deb ...\n",
      "Unpacking cuda-visual-tools-9-0 (9.0.176-1) ...\n",
      "Selecting previously unselected package cuda-toolkit-9-0.\n",
      "Preparing to unpack .../28-cuda-toolkit-9-0_9.0.176-1_amd64.deb ...\n",
      "Unpacking cuda-toolkit-9-0 (9.0.176-1) ...\n",
      "Selecting previously unselected package cuda-libraries-9-0.\n",
      "Preparing to unpack .../29-cuda-libraries-9-0_9.0.176-1_amd64.deb ...\n",
      "Unpacking cuda-libraries-9-0 (9.0.176-1) ...\n",
      "Selecting previously unselected package cuda-runtime-9-0.\n",
      "Preparing to unpack .../30-cuda-runtime-9-0_9.0.176-1_amd64.deb ...\n",
      "Unpacking cuda-runtime-9-0 (9.0.176-1) ...\n",
      "Selecting previously unselected package cuda-demo-suite-9-0.\n",
      "Preparing to unpack .../31-cuda-demo-suite-9-0_9.0.176-1_amd64.deb ...\n",
      "Unpacking cuda-demo-suite-9-0 (9.0.176-1) ...\n",
      "Selecting previously unselected package cuda-9-0.\n",
      "Preparing to unpack .../32-cuda-9-0_9.0.176-1_amd64.deb ...\n",
      "Unpacking cuda-9-0 (9.0.176-1) ...\n",
      "Setting up cuda-license-9-0 (9.0.176-1) ...\n",
      "*** LICENSE AGREEMENT ***\n",
      "By using this software you agree to fully comply with the terms and \n",
      "conditions of the EULA (End User License Agreement). The EULA is located\n",
      "at /usr/local/cuda-9.0/doc/EULA.txt. The EULA can also be found at\n",
      "http://docs.nvidia.com/cuda/eula/index.html. If you do not agree to the\n",
      "terms and conditions of the EULA, do not use the software.\n",
      "\n",
      "Setting up cuda-cusparse-9-0 (9.0.176-1) ...\n",
      "Setting up cuda-cudart-9-0 (9.0.176-1) ...\n",
      "Setting up cuda-nvrtc-9-0 (9.0.176-1) ...\n",
      "Setting up cuda-cusparse-dev-9-0 (9.0.176-1) ...\n",
      "Setting up cuda-cufft-9-0 (9.0.176-1) ...\n",
      "Setting up cuda-cusolver-9-0 (9.0.176-1) ...\n",
      "Setting up cuda-nvml-dev-9-0 (9.0.176-1) ...\n",
      "Setting up cuda-npp-9-0 (9.0.176-1) ...\n",
      "Setting up cuda-cusolver-dev-9-0 (9.0.176-1) ...\n",
      "Setting up cuda-misc-headers-9-0 (9.0.176-1) ...\n",
      "Setting up cuda-cublas-9-0 (9.0.176-1) ...\n",
      "Setting up cuda-nvrtc-dev-9-0 (9.0.176-1) ...\n",
      "Setting up cuda-driver-dev-9-0 (9.0.176-1) ...\n",
      "Setting up cuda-curand-9-0 (9.0.176-1) ...\n",
      "Setting up cuda-nvgraph-9-0 (9.0.176-1) ...\n",
      "Setting up cuda-core-9-0 (9.0.176-1) ...\n",
      "Setting up cuda-libraries-9-0 (9.0.176-1) ...\n",
      "Setting up cuda-runtime-9-0 (9.0.176-1) ...\n",
      "Setting up cuda-cudart-dev-9-0 (9.0.176-1) ...\n",
      "Setting up cuda-cufft-dev-9-0 (9.0.176-1) ...\n",
      "Setting up cuda-npp-dev-9-0 (9.0.176-1) ...\n",
      "Setting up cuda-curand-dev-9-0 (9.0.176-1) ...\n",
      "Setting up cuda-cublas-dev-9-0 (9.0.176-1) ...\n",
      "Setting up cuda-nvgraph-dev-9-0 (9.0.176-1) ...\n",
      "Setting up cuda-command-line-tools-9-0 (9.0.176-1) ...\n",
      "Setting up cuda-demo-suite-9-0 (9.0.176-1) ...\n",
      "Setting up cuda-visual-tools-9-0 (9.0.176-1) ...\n",
      "Setting up cuda-samples-9-0 (9.0.176-1) ...\n",
      "Setting up cuda-libraries-dev-9-0 (9.0.176-1) ...\n",
      "Setting up cuda-documentation-9-0 (9.0.176-1) ...\n",
      "Setting up cuda-toolkit-9-0 (9.0.176-1) ...\n",
      "Setting up cuda-9-0 (9.0.176-1) ...\n",
      "Processing triggers for libc-bin (2.27-3ubuntu1.3) ...\n",
      "/sbin/ldconfig.real: /usr/local/lib/python3.7/dist-packages/ideep4py/lib/libmkldnn.so.0 is not a symbolic link\n",
      "\n",
      "nvcc: NVIDIA (R) Cuda compiler driver\n",
      "Copyright (c) 2005-2017 NVIDIA Corporation\n",
      "Built on Fri_Sep__1_21:08:03_CDT_2017\n",
      "Cuda compilation tools, release 9.0, V9.0.176\n"
     ]
    }
   ],
   "source": [
    "!wget https://developer.nvidia.com/compute/cuda/9.0/Prod/local_installers/cuda-repo-ubuntu1704-9-0-local_9.0.176-1_amd64-deb\n",
    "!dpkg -i cuda-repo-ubuntu1704-9-0-local_9.0.176-1_amd64-deb\n",
    "!ls /var/cuda-repo-9-0-local | grep .pub\n",
    "!apt-key add /var/cuda-repo-9-0-local/7fa2af80.pub\n",
    "!apt-get update\n",
    "!sudo apt-get install cuda-9.0\n",
    "!nvcc --version"
   ]
  },
  {
   "cell_type": "code",
   "execution_count": null,
   "metadata": {
    "colab": {
     "base_uri": "https://localhost:8080/"
    },
    "executionInfo": {
     "elapsed": 3656,
     "status": "ok",
     "timestamp": 1653970482227,
     "user": {
      "displayName": "COURTNEY CHU",
      "userId": "05165186775196890455"
     },
     "user_tz": 420
    },
    "id": "rYdNhiMpy4Jr",
    "outputId": "c78400f5-c750-4da9-c46d-f880e1a283b0"
   },
   "outputs": [
    {
     "output_type": "stream",
     "name": "stdout",
     "text": [
      "Looking in indexes: https://pypi.org/simple, https://us-python.pkg.dev/colab-wheels/public/simple/\n",
      "Collecting thundersvm\n",
      "  Downloading thundersvm-0.3.12-py3-none-any.whl (507 kB)\n",
      "\u001B[K     |████████████████████████████████| 507 kB 7.3 MB/s \n",
      "\u001B[?25hRequirement already satisfied: numpy in /usr/local/lib/python3.7/dist-packages (from thundersvm) (1.21.6)\n",
      "Requirement already satisfied: scipy in /usr/local/lib/python3.7/dist-packages (from thundersvm) (1.4.1)\n",
      "Requirement already satisfied: scikit-learn in /usr/local/lib/python3.7/dist-packages (from thundersvm) (1.0.2)\n",
      "Requirement already satisfied: threadpoolctl>=2.0.0 in /usr/local/lib/python3.7/dist-packages (from scikit-learn->thundersvm) (3.1.0)\n",
      "Requirement already satisfied: joblib>=0.11 in /usr/local/lib/python3.7/dist-packages (from scikit-learn->thundersvm) (1.1.0)\n",
      "Installing collected packages: thundersvm\n",
      "Successfully installed thundersvm-0.3.12\n"
     ]
    }
   ],
   "source": [
    "!pip install thundersvm\n",
    "!pip install beautifulsoup4"
   ]
  },
  {
   "cell_type": "code",
   "execution_count": null,
   "outputs": [],
   "source": [
    "try:\n",
    "  from google.colab import drive\n",
    "  IN_COLAB = True\n",
    "except:\n",
    "  IN_COLAB = False"
   ],
   "metadata": {
    "pycharm": {
     "name": "#%%\n"
    },
    "id": "KGyQELM8-dd7"
   }
  },
  {
   "cell_type": "code",
   "execution_count": null,
   "outputs": [],
   "source": [
    "from torch.utils.data import Dataset\n",
    "import pandas as pd\n",
    "import numpy as np\n",
    "import tqdm\n",
    "import torch\n",
    "import random\n",
    "from sklearn import model_selection, feature_extraction\n",
    "from sklearn.metrics import make_scorer, accuracy_score, precision_score, recall_score, f1_score"
   ],
   "metadata": {
    "pycharm": {
     "name": "#%%\n"
    },
    "id": "wXK2dwt0-dd8"
   }
  },
  {
   "cell_type": "code",
   "execution_count": null,
   "outputs": [
    {
     "output_type": "stream",
     "name": "stdout",
     "text": [
      "--2022-05-25 14:13:47--  https://nlp.cs.princeton.edu/SARC/0.0/key.csv\n",
      "Resolving nlp.cs.princeton.edu (nlp.cs.princeton.edu)... 128.112.136.61\n",
      "Connecting to nlp.cs.princeton.edu (nlp.cs.princeton.edu)|128.112.136.61|:443... connected.\n",
      "HTTP request sent, awaiting response... 200 OK\n",
      "Length: 80 [text/csv]\n",
      "Saving to: ‘key.csv’\n",
      "\n",
      "key.csv             100%[===================>]      80  --.-KB/s    in 0s      \n",
      "\n",
      "2022-05-25 14:13:47 (7.22 MB/s) - ‘key.csv’ saved [80/80]\n",
      "\n",
      "--2022-05-25 14:13:47--  https://nlp.cs.princeton.edu/SARC/0.0/main/test-balanced.csv.bz2\n",
      "Resolving nlp.cs.princeton.edu (nlp.cs.princeton.edu)... 128.112.136.61\n",
      "Connecting to nlp.cs.princeton.edu (nlp.cs.princeton.edu)|128.112.136.61|:443... connected.\n",
      "HTTP request sent, awaiting response... 200 OK\n",
      "Length: 20261578 (19M) [application/x-bzip2]\n",
      "Saving to: ‘test-balanced.csv.bz2’\n",
      "\n",
      "test-balanced.csv.b 100%[===================>]  19.32M  45.9MB/s    in 0.4s    \n",
      "\n",
      "2022-05-25 14:13:48 (45.9 MB/s) - ‘test-balanced.csv.bz2’ saved [20261578/20261578]\n",
      "\n",
      "--2022-05-25 14:13:48--  https://nlp.cs.princeton.edu/SARC/0.0/main/train-balanced.csv.bz2\n",
      "Resolving nlp.cs.princeton.edu (nlp.cs.princeton.edu)... 128.112.136.61\n",
      "Connecting to nlp.cs.princeton.edu (nlp.cs.princeton.edu)|128.112.136.61|:443... connected.\n",
      "HTTP request sent, awaiting response... 200 OK\n",
      "Length: 81268788 (78M) [application/x-bzip2]\n",
      "Saving to: ‘train-balanced.csv.bz2’\n",
      "\n",
      "train-balanced.csv. 100%[===================>]  77.50M  61.7MB/s    in 1.3s    \n",
      "\n",
      "2022-05-25 14:13:49 (61.7 MB/s) - ‘train-balanced.csv.bz2’ saved [81268788/81268788]\n",
      "\n"
     ]
    }
   ],
   "source": [
    "# Source https://nlp.cs.princeton.edu/SARC/\n",
    "!wget -nc https://nlp.cs.princeton.edu/SARC/0.0/key.csv\n",
    "!wget -nc https://nlp.cs.princeton.edu/SARC/0.0/main/test-balanced.csv.bz2\n",
    "!wget -nc https://nlp.cs.princeton.edu/SARC/0.0/main/train-balanced.csv.bz2\n",
    "!bzip2 -dk test-balanced.csv.bz2\n",
    "!bzip2 -dk train-balanced.csv.bz2"
   ],
   "metadata": {
    "pycharm": {
     "name": "#%%\n"
    },
    "colab": {
     "base_uri": "https://localhost:8080/"
    },
    "id": "NCPCXC7J-dd9",
    "executionInfo": {
     "status": "ok",
     "timestamp": 1653488060280,
     "user_tz": 420,
     "elapsed": 33073,
     "user": {
      "displayName": "COURTNEY CHU",
      "userId": "05165186775196890455"
     }
    },
    "outputId": "7a6b0250-1c99-4382-b177-106d6e7fcad4"
   }
  },
  {
   "cell_type": "markdown",
   "source": [
    "# Load Data Set\n",
    "Citation: https://medium.com/@therpsvishal/sarcasm-detection-on-reddit-data-4b399df855ad"
   ],
   "metadata": {
    "id": "kPMqTcF2kc2u"
   }
  },
  {
   "cell_type": "code",
   "source": [
    "# Get Train Data\n",
    "header_names = pd.read_csv('key.csv', sep='\\t').columns.values.tolist()\n",
    "train = pd.read_csv('train-balanced.csv', sep='\\t', names=header_names)\n",
    "test = pd.read_csv('test-balanced.csv', sep='\\t', names=header_names)"
   ],
   "metadata": {
    "id": "dsftKfKykn0j"
   },
   "execution_count": null,
   "outputs": []
  },
  {
   "cell_type": "code",
   "source": [
    "# Reorder and combine comment data\n",
    "train['author'] = train['author'].astype(str)\n",
    "train['comment'] = train['comment'].astype(str)\n",
    "\n",
    "train_group = train.groupby('author')['comment'].agg(lambda col: ' '.join(col))\n",
    "\n",
    "new_col = pd.DataFrame(train_group)\n",
    "new_col['joined_comment'] = new_col['comment']\n",
    "new_col = new_col.drop(['comment'], axis=1)\n",
    "\n",
    "train_df = train.merge(new_col,how='left',on='author')"
   ],
   "metadata": {
    "id": "j738tV7ukqQ6"
   },
   "execution_count": null,
   "outputs": []
  },
  {
   "cell_type": "code",
   "source": [
    "# Set data limit and simplify data to just the joined_comment and label\n",
    "limit = 50000\n",
    "\n",
    "# train_df has the following labels: [label,comment,author,subreddit,score,ups,downs,date,created_utc,parent_comment,joined_comment]\n",
    "# Optional: Can use \"joined_comment\" as the primary data point. Train_opt_df has only the label and joined_comment\n",
    "train_opt_df = pd.concat([train_df['joined_comment'],train_df['label']],axis=1)\n",
    "vectorizer = feature_extraction.text.TfidfVectorizer()\n",
    "train_vectors = vectorizer.fit_transform(train_opt_df[0:limit][\"joined_comment\"])\n",
    "\n",
    "train_opt_df"
   ],
   "metadata": {
    "colab": {
     "base_uri": "https://localhost:8080/",
     "height": 424
    },
    "id": "SWzJm0Qyk45G",
    "outputId": "6f0c023d-4c0d-43a1-d881-e96e42b8d0e4",
    "executionInfo": {
     "status": "ok",
     "timestamp": 1653488110753,
     "user_tz": 420,
     "elapsed": 162,
     "user": {
      "displayName": "COURTNEY CHU",
      "userId": "05165186775196890455"
     }
    }
   },
   "execution_count": null,
   "outputs": [
    {
     "output_type": "execute_result",
     "data": {
      "text/plain": [
       "                                          joined_comment  label\n",
       "0                            NC and NH. Very surprising!      0\n",
       "1      You do know west teams play against west teams...      0\n",
       "2      They were underdogs earlier today, but since G...      0\n",
       "3      This meme isn't funny none of the \"new york ni...      0\n",
       "4      I could use one of those tools. Jimmy Graham p...      0\n",
       "...                                                  ...    ...\n",
       "29995  *speckled But there's futuristic robot surgica...      0\n",
       "29996  There will be jobs........building a wall. We ...      1\n",
       "29997        lol.. no. We are talking about Bone7 tho...      0\n",
       "29998  Yes, but it can get better too. Because everyo...      0\n",
       "29999  I'm glad they spent valuable time debating how...      0\n",
       "\n",
       "[30000 rows x 2 columns]"
      ],
      "text/html": [
       "\n",
       "  <div id=\"df-0ff9416e-7325-49d7-a5f2-727d1d318895\">\n",
       "    <div class=\"colab-df-container\">\n",
       "      <div>\n",
       "<style scoped>\n",
       "    .dataframe tbody tr th:only-of-type {\n",
       "        vertical-align: middle;\n",
       "    }\n",
       "\n",
       "    .dataframe tbody tr th {\n",
       "        vertical-align: top;\n",
       "    }\n",
       "\n",
       "    .dataframe thead th {\n",
       "        text-align: right;\n",
       "    }\n",
       "</style>\n",
       "<table border=\"1\" class=\"dataframe\">\n",
       "  <thead>\n",
       "    <tr style=\"text-align: right;\">\n",
       "      <th></th>\n",
       "      <th>joined_comment</th>\n",
       "      <th>label</th>\n",
       "    </tr>\n",
       "  </thead>\n",
       "  <tbody>\n",
       "    <tr>\n",
       "      <th>0</th>\n",
       "      <td>NC and NH. Very surprising!</td>\n",
       "      <td>0</td>\n",
       "    </tr>\n",
       "    <tr>\n",
       "      <th>1</th>\n",
       "      <td>You do know west teams play against west teams...</td>\n",
       "      <td>0</td>\n",
       "    </tr>\n",
       "    <tr>\n",
       "      <th>2</th>\n",
       "      <td>They were underdogs earlier today, but since G...</td>\n",
       "      <td>0</td>\n",
       "    </tr>\n",
       "    <tr>\n",
       "      <th>3</th>\n",
       "      <td>This meme isn't funny none of the \"new york ni...</td>\n",
       "      <td>0</td>\n",
       "    </tr>\n",
       "    <tr>\n",
       "      <th>4</th>\n",
       "      <td>I could use one of those tools. Jimmy Graham p...</td>\n",
       "      <td>0</td>\n",
       "    </tr>\n",
       "    <tr>\n",
       "      <th>...</th>\n",
       "      <td>...</td>\n",
       "      <td>...</td>\n",
       "    </tr>\n",
       "    <tr>\n",
       "      <th>29995</th>\n",
       "      <td>*speckled But there's futuristic robot surgica...</td>\n",
       "      <td>0</td>\n",
       "    </tr>\n",
       "    <tr>\n",
       "      <th>29996</th>\n",
       "      <td>There will be jobs........building a wall. We ...</td>\n",
       "      <td>1</td>\n",
       "    </tr>\n",
       "    <tr>\n",
       "      <th>29997</th>\n",
       "      <td>lol.. no. We are talking about Bone7 tho...</td>\n",
       "      <td>0</td>\n",
       "    </tr>\n",
       "    <tr>\n",
       "      <th>29998</th>\n",
       "      <td>Yes, but it can get better too. Because everyo...</td>\n",
       "      <td>0</td>\n",
       "    </tr>\n",
       "    <tr>\n",
       "      <th>29999</th>\n",
       "      <td>I'm glad they spent valuable time debating how...</td>\n",
       "      <td>0</td>\n",
       "    </tr>\n",
       "  </tbody>\n",
       "</table>\n",
       "<p>30000 rows × 2 columns</p>\n",
       "</div>\n",
       "      <button class=\"colab-df-convert\" onclick=\"convertToInteractive('df-0ff9416e-7325-49d7-a5f2-727d1d318895')\"\n",
       "              title=\"Convert this dataframe to an interactive table.\"\n",
       "              style=\"display:none;\">\n",
       "        \n",
       "  <svg xmlns=\"http://www.w3.org/2000/svg\" height=\"24px\"viewBox=\"0 0 24 24\"\n",
       "       width=\"24px\">\n",
       "    <path d=\"M0 0h24v24H0V0z\" fill=\"none\"/>\n",
       "    <path d=\"M18.56 5.44l.94 2.06.94-2.06 2.06-.94-2.06-.94-.94-2.06-.94 2.06-2.06.94zm-11 1L8.5 8.5l.94-2.06 2.06-.94-2.06-.94L8.5 2.5l-.94 2.06-2.06.94zm10 10l.94 2.06.94-2.06 2.06-.94-2.06-.94-.94-2.06-.94 2.06-2.06.94z\"/><path d=\"M17.41 7.96l-1.37-1.37c-.4-.4-.92-.59-1.43-.59-.52 0-1.04.2-1.43.59L10.3 9.45l-7.72 7.72c-.78.78-.78 2.05 0 2.83L4 21.41c.39.39.9.59 1.41.59.51 0 1.02-.2 1.41-.59l7.78-7.78 2.81-2.81c.8-.78.8-2.07 0-2.86zM5.41 20L4 18.59l7.72-7.72 1.47 1.35L5.41 20z\"/>\n",
       "  </svg>\n",
       "      </button>\n",
       "      \n",
       "  <style>\n",
       "    .colab-df-container {\n",
       "      display:flex;\n",
       "      flex-wrap:wrap;\n",
       "      gap: 12px;\n",
       "    }\n",
       "\n",
       "    .colab-df-convert {\n",
       "      background-color: #E8F0FE;\n",
       "      border: none;\n",
       "      border-radius: 50%;\n",
       "      cursor: pointer;\n",
       "      display: none;\n",
       "      fill: #1967D2;\n",
       "      height: 32px;\n",
       "      padding: 0 0 0 0;\n",
       "      width: 32px;\n",
       "    }\n",
       "\n",
       "    .colab-df-convert:hover {\n",
       "      background-color: #E2EBFA;\n",
       "      box-shadow: 0px 1px 2px rgba(60, 64, 67, 0.3), 0px 1px 3px 1px rgba(60, 64, 67, 0.15);\n",
       "      fill: #174EA6;\n",
       "    }\n",
       "\n",
       "    [theme=dark] .colab-df-convert {\n",
       "      background-color: #3B4455;\n",
       "      fill: #D2E3FC;\n",
       "    }\n",
       "\n",
       "    [theme=dark] .colab-df-convert:hover {\n",
       "      background-color: #434B5C;\n",
       "      box-shadow: 0px 1px 3px 1px rgba(0, 0, 0, 0.15);\n",
       "      filter: drop-shadow(0px 1px 2px rgba(0, 0, 0, 0.3));\n",
       "      fill: #FFFFFF;\n",
       "    }\n",
       "  </style>\n",
       "\n",
       "      <script>\n",
       "        const buttonEl =\n",
       "          document.querySelector('#df-0ff9416e-7325-49d7-a5f2-727d1d318895 button.colab-df-convert');\n",
       "        buttonEl.style.display =\n",
       "          google.colab.kernel.accessAllowed ? 'block' : 'none';\n",
       "\n",
       "        async function convertToInteractive(key) {\n",
       "          const element = document.querySelector('#df-0ff9416e-7325-49d7-a5f2-727d1d318895');\n",
       "          const dataTable =\n",
       "            await google.colab.kernel.invokeFunction('convertToInteractive',\n",
       "                                                     [key], {});\n",
       "          if (!dataTable) return;\n",
       "\n",
       "          const docLinkHtml = 'Like what you see? Visit the ' +\n",
       "            '<a target=\"_blank\" href=https://colab.research.google.com/notebooks/data_table.ipynb>data table notebook</a>'\n",
       "            + ' to learn more about interactive tables.';\n",
       "          element.innerHTML = '';\n",
       "          dataTable['output_type'] = 'display_data';\n",
       "          await google.colab.output.renderOutput(dataTable, element);\n",
       "          const docLink = document.createElement('div');\n",
       "          docLink.innerHTML = docLinkHtml;\n",
       "          element.appendChild(docLink);\n",
       "        }\n",
       "      </script>\n",
       "    </div>\n",
       "  </div>\n",
       "  "
      ]
     },
     "metadata": {},
     "execution_count": 7
    }
   ]
  },
  {
   "cell_type": "markdown",
   "source": [
    "# Pre-processing"
   ],
   "metadata": {
    "collapsed": false,
    "pycharm": {
     "name": "#%% md\n"
    },
    "id": "j9go4HWD-deA"
   }
  },
  {
   "cell_type": "code",
   "source": [
    "from bs4 import BeautifulSoup\n",
    "import re\n",
    "import string\n",
    "from collections import Counter\n",
    "\n",
    "import nltk\n",
    "nltk.download('stopwords')\n",
    "from nltk.corpus import stopwords\n",
    "from wordcloud import WordCloud,STOPWORDS"
   ],
   "metadata": {
    "id": "4kuaJMjxWOOQ"
   },
   "execution_count": null,
   "outputs": []
  },
  {
   "cell_type": "code",
   "source": [
    "stop = set(stopwords.words('english'))\n",
    "punctuation = list(string.punctuation)\n",
    "stop.update(punctuation)"
   ],
   "metadata": {
    "id": "r8GLtZiPWLWn"
   },
   "execution_count": null,
   "outputs": []
  },
  {
   "cell_type": "code",
   "execution_count": null,
   "outputs": [],
   "source": [
    "\"\"\"\n",
    "def preprocess(row):\n",
    "    new_text = []\n",
    "    text = row['comment']\n",
    "    for t in text or []:\n",
    "      if t is not None:\n",
    "        t = '@user' if t.startswith('@') and len(t) > 1 else t\n",
    "        t = 'http' if t.startswith('http') else t\n",
    "        new_text.append(t)\n",
    "    return {**row, 'comment':\" \".join(new_text)}\n",
    "\n",
    "def cleanup(d_set):\n",
    "  return d_set.map(preprocess).remove_columns(['author','subreddit', 'score', 'ups', 'downs', 'date', 'created_utc'])\n",
    "\"\"\"\n",
    "def clean_data(text):\n",
    "  final_text = []\n",
    "\n",
    "  html_parser = BeautifulSoup(text, \"html.parser\")\n",
    "  bracket_remove = re.sub('\\[[^]]*\\]', '', html_parser.get_text())\n",
    "  url_remove = re.sub(r'http\\S+', '', bracket_remove)\n",
    "\n",
    "  for i in url_remove.split():\n",
    "    if i.strip().lower() not in stop and i.strip().lower().isalpha():\n",
    "      final_text.append(i.strip().lower())\n",
    "\n",
    "  return \" \".join(final_text)\n",
    "\n",
    "def generate_corpus(text):\n",
    "    words = []\n",
    "    for i in text:\n",
    "        for j in i.split():\n",
    "            words.append(j.strip())\n",
    "    return words\n",
    "\n",
    "def word_count(trained_corpus):\n",
    "  word_count = Counter(trained_corpus)\n",
    "  common_words = word_count.most_common(20)\n",
    "  common_word_count = dict(common_words)\n",
    "  return common_word_count"
   ],
   "metadata": {
    "pycharm": {
     "name": "#%%\n"
    },
    "id": "SAXEEllg-deA"
   }
  },
  {
   "cell_type": "code",
   "source": [
    "df = train_opt_df\n",
    "\n",
    "df['joined_comment']=df['joined_comment'].apply(clean_data)\n",
    "\n",
    "train_corpus = generate_corpus(df.joined_comment)\n",
    "word_counter = word_count(train_corpus)"
   ],
   "metadata": {
    "id": "LbNrwqVnCPzF"
   },
   "execution_count": null,
   "outputs": []
  },
  {
   "cell_type": "code",
   "source": [
    "df"
   ],
   "metadata": {
    "id": "K9scdC_eCQlQ"
   },
   "execution_count": null,
   "outputs": []
  },
  {
   "cell_type": "code",
   "source": [
    "word_counter"
   ],
   "metadata": {
    "id": "ANn7NejkCRo-"
   },
   "execution_count": null,
   "outputs": []
  },
  {
   "cell_type": "markdown",
   "source": [
    "# Evaluation"
   ],
   "metadata": {
    "collapsed": false,
    "pycharm": {
     "name": "#%% md\n"
    },
    "id": "KcIGz7YP-deC"
   }
  },
  {
   "cell_type": "code",
   "execution_count": null,
   "outputs": [],
   "source": [
    "# F1 Scoring Function using a Count Vectorizer\n",
    "# Does 5-fold train+validation\n",
    "scoring = {'accuracy' : make_scorer(accuracy_score), \n",
    "           'precision' : make_scorer(precision_score),\n",
    "           'recall' : make_scorer(recall_score), \n",
    "           'f1_score' : make_scorer(f1_score)}\n",
    "def getScores(clf,train_vectors,train):\n",
    "    # Get Scores\n",
    "    scores = model_selection.cross_validate(clf, train_vectors, train[\"label\"], cv=5, scoring=scoring)\n",
    "    return scores"
   ],
   "metadata": {
    "pycharm": {
     "name": "#%%\n"
    },
    "id": "NNZBsR7s-deD"
   }
  },
  {
   "cell_type": "markdown",
   "source": [
    "## Random Forest Algorithm"
   ],
   "metadata": {
    "id": "9_8WKswSpO1j"
   }
  },
  {
   "cell_type": "markdown",
   "source": [
    "*RF* on reduced size (40% of final implementation) data points\n"
   ],
   "metadata": {
    "id": "EL4ftQNowy8N"
   }
  },
  {
   "cell_type": "code",
   "execution_count": null,
   "metadata": {
    "colab": {
     "base_uri": "https://localhost:8080/"
    },
    "executionInfo": {
     "elapsed": 2082009,
     "status": "ok",
     "timestamp": 1653627866846,
     "user": {
      "displayName": "WEI ZHOU",
      "userId": "10658339737959932030"
     },
     "user_tz": 420
    },
    "outputId": "716cc712-61d4-48a8-80c3-ee83be91b810",
    "id": "ynEOxpI7yUEz"
   },
   "outputs": [
    {
     "data": {
      "text/plain": [
       "{'fit_time': array([374.12144113, 425.84100509, 441.339849  , 382.46513867,\n",
       "        455.09445262]),\n",
       " 'score_time': array([0.61582208, 0.56675601, 0.59817982, 0.58158517, 0.59956574]),\n",
       " 'test_accuracy': array([0.54425, 0.579  , 0.56475, 0.57475, 0.5885 ]),\n",
       " 'test_f1_score': array([0.10681039, 0.08078603, 0.05328983, 0.11544462, 0.11027027]),\n",
       " 'test_precision': array([0.22199593, 0.26241135, 0.16955017, 0.2983871 , 0.34113712]),\n",
       " 'test_recall': array([0.07032258, 0.04774194, 0.0316129 , 0.07156673, 0.06576402])}"
      ]
     },
     "execution_count": 12,
     "metadata": {},
     "output_type": "execute_result"
    }
   ],
   "source": [
    "from sklearn.ensemble import RandomForestClassifier\n",
    "#max_features = 'sqrt', criterion = 'gini'\n",
    "model_rf = RandomForestClassifier()\n",
    "\n",
    "s = getScores(model_rf,train_vectors,train_opt_df[0:limit])\n",
    "s"
   ]
  },
  {
   "cell_type": "code",
   "source": [
    "#max_features = 'log2'\n",
    "model_rf = RandomForestClassifier(max_features='log2')\n",
    "\n",
    "s = getScores(model_rf,train_vectors,train_opt_df[0:limit])\n",
    "s"
   ],
   "metadata": {
    "colab": {
     "base_uri": "https://localhost:8080/"
    },
    "id": "PXrL90Pl96Iw",
    "executionInfo": {
     "status": "ok",
     "timestamp": 1653715351281,
     "user_tz": 420,
     "elapsed": 2278898,
     "user": {
      "displayName": "WEI ZHOU",
      "userId": "10658339737959932030"
     }
    },
    "outputId": "85a91f68-2870-4d4c-b1e5-c27818df27dd"
   },
   "execution_count": null,
   "outputs": [
    {
     "output_type": "execute_result",
     "data": {
      "text/plain": [
       "{'fit_time': array([399.1799233 , 463.63591337, 482.82389998, 439.93204737,\n",
       "        487.31466579]),\n",
       " 'score_time': array([1.07830477, 1.10223842, 1.11953115, 1.05199337, 1.16634083]),\n",
       " 'test_accuracy': array([0.54525, 0.57125, 0.56175, 0.57325, 0.58775]),\n",
       " 'test_f1_score': array([0.09995052, 0.0754717 , 0.06206528, 0.10954617, 0.11865313]),\n",
       " 'test_precision': array([0.21443737, 0.2295082 , 0.18181818, 0.28688525, 0.346875  ]),\n",
       " 'test_recall': array([0.06516129, 0.04516129, 0.03741935, 0.06769826, 0.07156673])}"
      ]
     },
     "metadata": {},
     "execution_count": 11
    }
   ]
  },
  {
   "cell_type": "code",
   "source": [
    "#criterion = 'entropy'\n",
    "model_rf = RandomForestClassifier(criterion = 'entropy')\n",
    "\n",
    "s = getScores(model_rf,train_vectors,train_opt_df[0:limit])\n",
    "s"
   ],
   "metadata": {
    "colab": {
     "base_uri": "https://localhost:8080/"
    },
    "id": "lbKUIkv5-Erw",
    "executionInfo": {
     "status": "ok",
     "timestamp": 1653762512467,
     "user_tz": 420,
     "elapsed": 2009099,
     "user": {
      "displayName": "WEI ZHOU",
      "userId": "10658339737959932030"
     }
    },
    "outputId": "762b1d23-ad01-43fe-d02b-25844ceae294"
   },
   "execution_count": null,
   "outputs": [
    {
     "output_type": "execute_result",
     "data": {
      "text/plain": [
       "{'fit_time': array([353.52123308, 419.28753066, 430.28836989, 366.72966218,\n",
       "        435.80368781]),\n",
       " 'score_time': array([0.58800983, 0.56543684, 0.61263895, 0.57790208, 0.62720323]),\n",
       " 'test_accuracy': array([0.54325, 0.56925, 0.5635 , 0.57175, 0.587  ]),\n",
       " 'test_f1_score': array([0.10834553, 0.06814494, 0.05621622, 0.11381273, 0.11752137]),\n",
       " 'test_precision': array([0.22244489, 0.21070234, 0.17333333, 0.28795812, 0.34267913]),\n",
       " 'test_recall': array([0.0716129 , 0.04064516, 0.03354839, 0.07092199, 0.07092199])}"
      ]
     },
     "metadata": {},
     "execution_count": 11
    }
   ]
  },
  {
   "cell_type": "markdown",
   "source": [
    "RF on 50,000 data points\n"
   ],
   "metadata": {
    "id": "gfnuootIV8Nf"
   }
  },
  {
   "cell_type": "code",
   "source": [
    "model_rf = RandomForestClassifier()\n",
    "\n",
    "s = getScores(model_rf,train_vectors,train_opt_df[0:limit])\n",
    "s"
   ],
   "metadata": {
    "id": "ra5I4kmepRt6",
    "colab": {
     "base_uri": "https://localhost:8080/"
    },
    "executionInfo": {
     "status": "ok",
     "timestamp": 1653529613187,
     "user_tz": 420,
     "elapsed": 12724200,
     "user": {
      "displayName": "WEI ZHOU",
      "userId": "10658339737959932030"
     }
    },
    "outputId": "21ae4f0a-4903-4338-a96a-786880a678d0"
   },
   "execution_count": null,
   "outputs": [
    {
     "output_type": "execute_result",
     "data": {
      "text/plain": [
       "{'fit_time': array([2716.09853077, 2538.54384804, 2443.86491704, 2526.4006083 ,\n",
       "        2491.0191412 ]),\n",
       " 'score_time': array([1.85987735, 1.41094112, 1.48795342, 1.4731493 , 1.5818429 ]),\n",
       " 'test_accuracy': array([0.5275, 0.5329, 0.5252, 0.5298, 0.5284]),\n",
       " 'test_f1_score': array([0.1921696 , 0.18210471, 0.17166783, 0.17247448, 0.18011127]),\n",
       " 'test_precision': array([0.32750583, 0.32953105, 0.30769231, 0.31633312, 0.31995059]),\n",
       " 'test_recall': array([0.13597871, 0.1258166 , 0.11904186, 0.11855795, 0.12533269])}"
      ]
     },
     "metadata": {},
     "execution_count": 13
    }
   ]
  },
  {
   "cell_type": "markdown",
   "source": [
    "## Support Vector Machines (SVM) Classification"
   ],
   "metadata": {
    "id": "0Y9g4acdpR7K"
   }
  },
  {
   "cell_type": "code",
   "source": [
    "from thundersvm import SVC"
   ],
   "metadata": {
    "id": "xBhtPNwlWeoS"
   },
   "execution_count": null,
   "outputs": []
  },
  {
   "cell_type": "markdown",
   "source": [
    "ThunderSVM on GPU w/ All Data Points, Preprocessed and with Optimal C and Gamma Values (values tested in [0.01,0.1,1,10,100])\n",
    "\n",
    "C = 10\n",
    "Gamma = 0.1"
   ],
   "metadata": {
    "id": "yLbihj13xUcz"
   }
  },
  {
   "cell_type": "code",
   "source": [
    "clf = SVC(max_mem_size=1024*3,max_iter=3,C=10,gamma=0.1)\n",
    "\n",
    "s = getScores(clf,train_vectors,train_opt_df)\n",
    "s"
   ],
   "metadata": {
    "colab": {
     "base_uri": "https://localhost:8080/"
    },
    "id": "Nw45NZrzxUlb",
    "executionInfo": {
     "status": "ok",
     "timestamp": 1654800724484,
     "user_tz": 420,
     "elapsed": 595445,
     "user": {
      "displayName": "COURTNEY CHU",
      "userId": "05165186775196890455"
     }
    },
    "outputId": "6a8e453f-2d9a-42b6-99c9-d8e7aea76679"
   },
   "execution_count": null,
   "outputs": [
    {
     "output_type": "execute_result",
     "data": {
      "text/plain": [
       "{'fit_time': array([7.59845471, 7.43085265, 7.49992967, 7.24318337, 6.88702154]),\n",
       " 'score_time': array([111.67381978, 111.04415989, 111.40876818, 111.59996176,\n",
       "        112.56222725]),\n",
       " 'test_accuracy': array([0.48023901, 0.50608661, 0.49915663, 0.50402394, 0.52664408]),\n",
       " 'test_f1_score': array([0.55211628, 0.2981514 , 0.29323691, 0.28728009, 0.5258396 ]),\n",
       " 'test_precision': array([0.48504048, 0.51493153, 0.49797302, 0.51027726, 0.52673741]),\n",
       " 'test_recall': array([0.64072099, 0.20981975, 0.20780159, 0.19991492, 0.52494485])}"
      ]
     },
     "metadata": {},
     "execution_count": 25
    }
   ]
  }
 ]
}